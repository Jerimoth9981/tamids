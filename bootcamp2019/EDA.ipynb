{
 "cells": [
  {
   "cell_type": "markdown",
   "metadata": {},
   "source": [
    "## Data Analysis and Machine Learning\n",
    "\n",
    "Basic steps in carrying out a machine larning project:\n",
    "1. Data cleaning and formatting\n",
    "2. Exploratory data analysis\n",
    "3. Feature engineering and selection\n",
    "4. Compare several machine learning models on a performance metric\n",
    "5. Perform hyperparameter tuning on the best model\n",
    "6. Evaluate the best model on the testing set\n",
    "7. Interpret the model results\n",
    "8. Draw conclusions and document work"
   ]
  },
  {
   "cell_type": "markdown",
   "metadata": {},
   "source": [
    "### 1. Data Preparation"
   ]
  },
  {
   "cell_type": "code",
   "execution_count": 23,
   "metadata": {},
   "outputs": [
    {
     "name": "stderr",
     "output_type": "stream",
     "text": [
      "[nltk_data] Downloading package stopwords to /home/jtao/nltk_data...\n",
      "[nltk_data]   Package stopwords is already up-to-date!\n",
      "[nltk_data] Downloading package averaged_perceptron_tagger to\n",
      "[nltk_data]     /home/jtao/nltk_data...\n",
      "[nltk_data]   Package averaged_perceptron_tagger is already up-to-\n",
      "[nltk_data]       date!\n"
     ]
    },
    {
     "data": {
      "text/plain": [
       "True"
      ]
     },
     "execution_count": 23,
     "metadata": {},
     "output_type": "execute_result"
    }
   ],
   "source": [
    "# import modules\n",
    "import pandas as pd\n",
    "import numpy as np\n",
    "import re\n",
    "import nltk\n",
    "import string\n",
    "import matplotlib.pyplot as plt\n",
    "nltk.download('stopwords')\n",
    "nltk.download('averaged_perceptron_tagger')"
   ]
  },
  {
   "cell_type": "code",
   "execution_count": null,
   "metadata": {},
   "outputs": [],
   "source": [
    "# absolute path of the data file\n",
    "data_file='data/nicksantino.csv'"
   ]
  },
  {
   "cell_type": "code",
   "execution_count": null,
   "metadata": {},
   "outputs": [],
   "source": [
    "# Read in data into a dataframe \n",
    "data = pd.read_csv(data_file)"
   ]
  },
  {
   "cell_type": "code",
   "execution_count": null,
   "metadata": {},
   "outputs": [],
   "source": [
    "# check column information and make sure the key columns \n",
    "# are numerical numbers.\n",
    "data.info()\n",
    "\n",
    "# if not, use astype method to convert.\n",
    "#data[col] = data[col].astype(float) "
   ]
  },
  {
   "cell_type": "code",
   "execution_count": null,
   "metadata": {
    "scrolled": true
   },
   "outputs": [],
   "source": [
    "# display the first 5 rows of the dataframe.\n",
    "data.head(5)"
   ]
  },
  {
   "cell_type": "code",
   "execution_count": null,
   "metadata": {},
   "outputs": [],
   "source": [
    "# Happy Emoticons\n",
    "emoticons_happy = set([\n",
    "    ':-)', ':)', ';)', ':o)', ':]', ':3', ':c)', ':>', '=]', '8)', '=)', ':}',\n",
    "    ':^)', ':-D', ':D', '8-D', '8D', 'x-D', 'xD', 'X-D', 'XD', '=-D', '=D',\n",
    "    '=-3', '=3', ':-))', \":'-)\", \":')\", ':*', ':^*', '>:P', ':-P', ':P', 'X-P',\n",
    "    'x-p', 'xp', 'XP', ':-p', ':p', '=p', ':-b', ':b', '>:)', '>;)', '>:-)',\n",
    "    '<3'\n",
    "    ])\n",
    " \n",
    "# Sad Emoticons\n",
    "emoticons_sad = set([\n",
    "    ':L', ':-/', '>:/', ':S', '>:[', ':@', ':-(', ':[', ':-||', '=L', ':<',\n",
    "    ':-[', ':-<', '=\\\\', '=/', '>:(', ':(', '>.<', \":'-(\", \":'(\", ':\\\\', ':-c',\n",
    "    ':c', ':{', '>:\\\\', ';('\n",
    "    ])\n",
    " \n",
    "# all emoticons (happy + sad)\n",
    "emoticons = emoticons_happy.union(emoticons_sad)\n",
    "\n",
    "stemmer = nltk.stem.PorterStemmer()\n",
    "stopwords_english = nltk.corpus.stopwords.words('english')"
   ]
  },
  {
   "cell_type": "code",
   "execution_count": null,
   "metadata": {},
   "outputs": [],
   "source": [
    "def clean_tweets(tweet):\n",
    "    # remove stock market tickers like $GE\n",
    "    tweet = re.sub(r'\\$\\w*', '', tweet)\n",
    " \n",
    "    # remove old style retweet text \"RT\"\n",
    "    tweet = re.sub(r'^RT[\\s]+', '', tweet)\n",
    " \n",
    "    # remove hyperlinks\n",
    "    tweet = re.sub(r'https?:\\/\\/.*[\\r\\n]*', '', tweet)\n",
    "    \n",
    "    # remove hashtags\n",
    "    # only removing the hash # sign from the word\n",
    "    tweet = re.sub(r'#', '', tweet)\n",
    " \n",
    "    # tokenize tweets\n",
    "    tokenizer = nltk.TweetTokenizer(preserve_case=False, strip_handles=True, reduce_len=True)\n",
    "    tweet_tokens = tokenizer.tokenize(tweet)\n",
    " \n",
    "    tweets_clean = []    \n",
    "    for word in tweet_tokens:\n",
    "        if (word not in stopwords_english and # remove stopwords\n",
    "              word not in emoticons and # remove emoticons\n",
    "                word not in string.punctuation): # remove punctuation\n",
    "            #tweets_clean.append(word)\n",
    "            stem_word = stemmer.stem(word) # stemming word\n",
    "            tweets_clean.append(stem_word)\n",
    " \n",
    "    return tweets_clean"
   ]
  },
  {
   "cell_type": "code",
   "execution_count": null,
   "metadata": {},
   "outputs": [],
   "source": [
    "cleaned_tokens=[]\n",
    "all_tokens=[]\n",
    "for i in data[\"text\"]:\n",
    "    cleaned_tokens.append(clean_tweets(i))\n",
    "for i in cleaned_tokens:\n",
    "    all_tokens=all_tokens+i    "
   ]
  },
  {
   "cell_type": "code",
   "execution_count": null,
   "metadata": {},
   "outputs": [],
   "source": [
    "category_dict={}\n",
    "category_dict['sadness']  = ['sad','depressed']\n",
    "category_dict['surprise'] = ['omg','what','believe']\n",
    "category_dict['anger'] = ['hate', 'fuck', 'stupid']\n",
    "category_dict['anxiety'] = ['fear', 'stress', 'anxiety']\n",
    "category_dict['happyness'] = ['love', 'happy', 'glad']\n",
    "sadness_tweet = set()\n",
    "surprise_tweet = set()\n",
    "anger_tweet = set()\n",
    "anxiety_tweet = set()\n",
    "happyness_tweet = set()\n",
    "\n",
    "for index, row in data.iterrows():\n",
    "    items = row[\"text\"]\n",
    "    cleaned_token = clean_tweets(items)\n",
    "    if set(category_dict['happyness']) & set(cleaned_token):\n",
    "        happyness_tweet.add(index)\n",
    "    if set(category_dict['surprise']) & set(cleaned_token):\n",
    "        surprise_tweet.add(index)\n",
    "    if set(category_dict['surprise']) & set(cleaned_token):\n",
    "        surprise_tweet.add(index)\n",
    "        \n",
    "#        if set(category_dict['commodity']) & items_tweet:\n",
    "#            commodity_tweet.add(items.get('tweet_text')"
   ]
  },
  {
   "cell_type": "code",
   "execution_count": null,
   "metadata": {},
   "outputs": [],
   "source": [
    "print(surprise_tweet)"
   ]
  },
  {
   "cell_type": "code",
   "execution_count": null,
   "metadata": {},
   "outputs": [],
   "source": [
    "print(data[\"text\"][87])"
   ]
  },
  {
   "cell_type": "code",
   "execution_count": null,
   "metadata": {},
   "outputs": [],
   "source": []
  },
  {
   "cell_type": "markdown",
   "metadata": {},
   "source": [
    "### 2. Exploratory Data Analysis"
   ]
  },
  {
   "cell_type": "code",
   "execution_count": 21,
   "metadata": {},
   "outputs": [
    {
     "data": {
      "text/plain": [
       "[('omg', 'NN'),\n",
       " ('name', 'NN'),\n",
       " ('youtub', 'JJ'),\n",
       " ('video', 'NN'),\n",
       " ('alex', 'JJ'),\n",
       " ('gaskarth', 'NN'),\n",
       " ('play', 'NN'),\n",
       " ('ping', 'VBG'),\n",
       " ('pong', 'JJ'),\n",
       " ('1', 'CD'),\n",
       " ('second', 'JJ'),\n",
       " ('nick', 'JJ'),\n",
       " ('santino', 'NN'),\n",
       " ('pull', 'NN'),\n",
       " ('pant', 'NN')]"
      ]
     },
     "execution_count": 21,
     "metadata": {},
     "output_type": "execute_result"
    }
   ],
   "source": [
    "nltk.pos_tag(cleaned_tokens[1])"
   ]
  },
  {
   "cell_type": "code",
   "execution_count": 22,
   "metadata": {},
   "outputs": [
    {
     "name": "stdout",
     "output_type": "stream",
     "text": [
      "<FreqDist with 540 samples and 1311 outcomes>\n"
     ]
    },
    {
     "data": {
      "text/plain": [
       "[('love', 35),\n",
       " ('nick', 33),\n",
       " ('rt', 33),\n",
       " ('happi', 30),\n",
       " ('anniversari', 26),\n",
       " (\"i'm\", 21),\n",
       " ('mom', 20),\n",
       " ('dad', 20),\n",
       " ('santino', 18),\n",
       " ('27th', 17),\n",
       " ('guy', 15),\n",
       " ('two', 14),\n",
       " ('reason', 14),\n",
       " ('come', 13),\n",
       " ('get', 13),\n",
       " ('grate', 13),\n",
       " ('see', 12),\n",
       " ('..', 12),\n",
       " ('u', 10),\n",
       " ('back', 10)]"
      ]
     },
     "execution_count": 22,
     "metadata": {},
     "output_type": "execute_result"
    }
   ],
   "source": [
    "fdist=nltk.probability.FreqDist(all_tokens)\n",
    "print(fdist)\n",
    "fdist.most_common(20)"
   ]
  },
  {
   "cell_type": "code",
   "execution_count": 25,
   "metadata": {},
   "outputs": [
    {
     "data": {
      "image/png": "[encoded data removed]",
      "text/plain": [
       "<matplotlib.figure.Figure at 0x7f6ffa307390>"
      ]
     },
     "metadata": {},
     "output_type": "display_data"
    }
   ],
   "source": [
    "fdist.plot(30,cumulative=False)"
   ]
  }
 ],
 "metadata": {
  "kernelspec": {
   "display_name": "Python 3",
   "language": "python",
   "name": "python3"
  },
  "language_info": {
   "codemirror_mode": {
    "name": "ipython",
    "version": 3
   },
   "file_extension": ".py",
   "mimetype": "text/x-python",
   "name": "python",
   "nbconvert_exporter": "python",
   "pygments_lexer": "ipython3",
   "version": "3.6.6"
  }
 },
 "nbformat": 4,
 "nbformat_minor": 2
}
