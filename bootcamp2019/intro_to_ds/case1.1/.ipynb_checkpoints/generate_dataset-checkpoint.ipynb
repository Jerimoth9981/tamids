{
 "cells": [
  {
   "cell_type": "code",
   "execution_count": 1,
   "metadata": {},
   "outputs": [],
   "source": [
    "import pandas as pd\n",
    "import random"
   ]
  },
  {
   "cell_type": "code",
   "execution_count": 2,
   "metadata": {},
   "outputs": [],
   "source": [
    "names = [\"Albert\",\"John\",\"Richard\",\"Henry\",\"William\"]\n",
    "surnames = [\"Goodman\",\"Black\",\"White\",\"Green\",\"Joneson\"]\n",
    "gender = [\"F\", \"M\"]\n",
    "salaries = [500*random.randint(10,30) for _ in range(10)]"
   ]
  },
  {
   "cell_type": "code",
   "execution_count": 3,
   "metadata": {},
   "outputs": [],
   "source": [
    "def generate_random_person(names, surnames, gender, salaries):\n",
    "    return {\"name\":random.sample(names,1)[0],\n",
    "            \"surname\":random.sample(surnames,1)[0],\n",
    "            \"gender\":random.sample(gender,1)[0],\n",
    "            \"salary\":random.sample(salaries,1)[0]}\n",
    "def generate_people(k):\n",
    "    return [generate_random_person(names, surnames, gender, salaries) for _ in range(k)]"
   ]
  },
  {
   "cell_type": "code",
   "execution_count": 4,
   "metadata": {},
   "outputs": [
    {
     "data": {
      "text/plain": [
       "{'name': 'Henry', 'surname': 'Joneson', 'gender': 'F', 'salary': 9000}"
      ]
     },
     "execution_count": 4,
     "metadata": {},
     "output_type": "execute_result"
    }
   ],
   "source": [
    "generate_random_person(names, surnames, gender, salaries)"
   ]
  },
  {
   "cell_type": "code",
   "execution_count": 5,
   "metadata": {},
   "outputs": [],
   "source": [
    "df = pd.DataFrame(generate_people(50),columns=[\"name\",\"surname\", \"gender\", \"salary\"])"
   ]
  },
  {
   "cell_type": "code",
   "execution_count": 7,
   "metadata": {},
   "outputs": [],
   "source": [
    "df.to_csv(\"random_people.csv\")"
   ]
  }
 ],
 "metadata": {
  "kernelspec": {
   "display_name": "Python 3",
   "language": "python",
   "name": "python3"
  },
  "language_info": {
   "codemirror_mode": {
    "name": "ipython",
    "version": 3
   },
   "file_extension": ".py",
   "mimetype": "text/x-python",
   "name": "python",
   "nbconvert_exporter": "python",
   "pygments_lexer": "ipython3",
   "version": "3.6.3"
  }
 },
 "nbformat": 4,
 "nbformat_minor": 4
}
