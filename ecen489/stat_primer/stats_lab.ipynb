{
 "cells": [
  {
   "cell_type": "markdown",
   "metadata": {},
   "source": [
    "# Statistics Primer"
   ]
  },
  {
   "cell_type": "code",
   "execution_count": null,
   "metadata": {},
   "outputs": [],
   "source": [
    "t = [7,8,3,7,2,1,8,0,2,5]\n",
    "print (t)\n",
    "t.sort() # t.sort(reverse=True)\n",
    "print (t)"
   ]
  },
  {
   "cell_type": "code",
   "execution_count": null,
   "metadata": {},
   "outputs": [],
   "source": [
    "def mymean(t):\n",
    "    return(float(sum(t)) / len(t))\n",
    "def myvar(t):\n",
    "    mu = mymean(t)\n",
    "    dev2 = [(x - mu)**2 for x in t]\n",
    "    var = mean(dev2)\n",
    "    return(var)\n",
    "def mystdev(t):\n",
    "    return myvar(t)**0.5\n",
    "def myrange(t):\n",
    "    return max(t) - min(t) \n",
    "def myhist(t):\n",
    "    hist = {}\n",
    "    for x in t:\n",
    "        hist[x] = hist.get(x,0) + 1\n",
    "    return hist\n",
    "def mymedian(t):\n",
    "    n = len(t)\n",
    "    if n % 2 == 0: \n",
    "        median1 = t[n//2] \n",
    "        median2 = t[n//2 - 1] \n",
    "        median = (median1 + median2)/2\n",
    "    else: \n",
    "        median = t[n//2] \n",
    "    print(\"Median is: \" + str(median)) \n",
    "def mymode(t):\n",
    "    n = len(t)\n",
    "    m = myhist(t) \n",
    "    print (m)\n",
    "    mode = [k for k, v in m.items() if v == max(m.values())] \n",
    "    if len(mode) == n: \n",
    "        get_mode = \"No mode found\"\n",
    "    else: \n",
    "        get_mode = \"Mode is / are: \" + ', '.join(map(str, mode))       \n",
    "    print(get_mode)"
   ]
  },
  {
   "cell_type": "code",
   "execution_count": null,
   "metadata": {},
   "outputs": [],
   "source": [
    "mymean(t)"
   ]
  },
  {
   "cell_type": "markdown",
   "metadata": {},
   "source": [
    "#### This module provides functions for calculating mathematical statistics of numeric (Real-valued) data."
   ]
  },
  {
   "cell_type": "code",
   "execution_count": null,
   "metadata": {},
   "outputs": [],
   "source": [
    "import statistics as stats"
   ]
  },
  {
   "cell_type": "code",
   "execution_count": null,
   "metadata": {},
   "outputs": [],
   "source": [
    "stats.median(t)"
   ]
  },
  {
   "cell_type": "code",
   "execution_count": null,
   "metadata": {},
   "outputs": [],
   "source": [
    "stats.mean(t)"
   ]
  },
  {
   "cell_type": "code",
   "execution_count": null,
   "metadata": {},
   "outputs": [],
   "source": [
    "help(stats)"
   ]
  },
  {
   "cell_type": "markdown",
   "metadata": {},
   "source": [
    "#### Reading from CSV file\n",
    "\n",
    "A CSV file (Comma Separated Values file) is a type of plain text file that uses specific structuring to arrange tabular data. It’s a plain text file and it can contain only actual text data—in other words, printable ASCII or Unicode characters."
   ]
  },
  {
   "cell_type": "code",
   "execution_count": null,
   "metadata": {},
   "outputs": [],
   "source": [
    "import csv"
   ]
  },
  {
   "cell_type": "code",
   "execution_count": null,
   "metadata": {},
   "outputs": [],
   "source": [
    "csv_input_file = '../MJ_mass_shooting1982_2019.csv'\n",
    "csv_output_file = 'myoutput.csv'\n",
    "fatalities = []\n",
    "with open(csv_input_file) as csvf:\n",
    "    csv_reader = csv.reader(csvf, delimiter=',')\n",
    "    line_count = 0\n",
    "    for row in csv_reader:\n",
    "        if line_count == 0:\n",
    "#            print(f'Column names are {\", \".join(row)}')\n",
    "            line_count += 1\n",
    "        else:\n",
    "#            print(row[0], row[1], row[2])\n",
    "            fatalities.append(int(row[4]))\n",
    "            line_count += 1\n",
    "#    print(f'Processed {line_count} lines.')\n",
    "    \n",
    "with open(csv_output_file, mode='w') as csvf:\n",
    "    csv_writer = csv.writer(csvf, delimiter=',', quotechar='\"', quoting=csv.QUOTE_MINIMAL)\n",
    "    csv_writer.writerow([1, 'Ethan White', '30'])\n",
    "    csv_writer.writerow([2, 'John Adams', '23'])"
   ]
  },
  {
   "cell_type": "code",
   "execution_count": null,
   "metadata": {},
   "outputs": [],
   "source": [
    "len(fatalities)"
   ]
  },
  {
   "cell_type": "markdown",
   "metadata": {},
   "source": [
    "#### Read CSV file with Pandas"
   ]
  },
  {
   "cell_type": "code",
   "execution_count": null,
   "metadata": {},
   "outputs": [],
   "source": [
    "csv_input_file = '../MJ_mass_shooting1982_2019.csv'\n",
    "import pandas as pd\n",
    "df = pd.read_csv(csv_input_file)\n",
    "df.head(5)"
   ]
  },
  {
   "cell_type": "code",
   "execution_count": null,
   "metadata": {},
   "outputs": [],
   "source": [
    "x = df[\"fatalities\"].values"
   ]
  },
  {
   "cell_type": "code",
   "execution_count": null,
   "metadata": {},
   "outputs": [],
   "source": [
    "mymean(x)"
   ]
  },
  {
   "cell_type": "code",
   "execution_count": null,
   "metadata": {},
   "outputs": [],
   "source": [
    "df.columns"
   ]
  },
  {
   "cell_type": "code",
   "execution_count": null,
   "metadata": {},
   "outputs": [],
   "source": [
    "df.describe()"
   ]
  },
  {
   "cell_type": "code",
   "execution_count": null,
   "metadata": {},
   "outputs": [],
   "source": [
    "df"
   ]
  },
  {
   "cell_type": "code",
   "execution_count": null,
   "metadata": {},
   "outputs": [],
   "source": [
    "df.hist()"
   ]
  }
 ],
 "metadata": {
  "kernelspec": {
   "display_name": "Python 3",
   "language": "python",
   "name": "python3"
  },
  "language_info": {
   "codemirror_mode": {
    "name": "ipython",
    "version": 3
   },
   "file_extension": ".py",
   "mimetype": "text/x-python",
   "name": "python",
   "nbconvert_exporter": "python",
   "pygments_lexer": "ipython3",
   "version": "3.7.4"
  }
 },
 "nbformat": 4,
 "nbformat_minor": 2
}
