{
 "cells": [
  {
   "cell_type": "markdown",
   "metadata": {},
   "source": [
    "# Exploring Wine Data - Plotting pandas Datasets with Matplotlib"
   ]
  },
  {
   "cell_type": "markdown",
   "metadata": {},
   "source": [
    "### Introduction\n",
    "\n",
    "Wine has been produced for thousands of years. The earliest known traces of wine are from Georgia (c. 6000 BC), Iran (c. 5000 BC), and Sicily (c. 4000 BC) although there is evidence of a similar alcoholic drink being consumed earlier in China (c. 7000 BC) [Wikipedia](https://en.wikipedia.org/wiki/Wine)"
   ]
  },
  {
   "cell_type": "code",
   "execution_count": null,
   "metadata": {},
   "outputs": [],
   "source": [
    "%matplotlib inline\n",
    "import pandas as pd\n",
    "import matplotlib.pyplot as plt"
   ]
  },
  {
   "cell_type": "markdown",
   "metadata": {},
   "source": [
    "### Get the dataset\n",
    "Data Set Information:\n",
    "\n",
    "These data are the results of a chemical analysis of wines grown in the same region in Italy but derived from three different cultivars. The analysis determined the quantities of 13 constituents found in each of the three types of wines.\n",
    "[Wine Data Set at UCL](https://archive.ics.uci.edu/ml/datasets/Wine)\n"
   ]
  },
  {
   "cell_type": "code",
   "execution_count": null,
   "metadata": {},
   "outputs": [],
   "source": [
    "wine_url = 'https://archive.ics.uci.edu/ml/machine-learning-databases/wine/wine.data'\n",
    " \n",
    "#define column headers\n",
    "wine_column_headers = ['Alcohol','Malic acid','Ash','Alcalinity of ash', 'Magnesium','Total phenols','Flavanoids','Nonflavanoid phenols','Proanthocyanins','Color intensity','Hue','OD280/OD315 of diluted wines','Proline']\n",
    "wine_df = pd.read_csv(wine_url, names = wine_column_headers)"
   ]
  },
  {
   "cell_type": "code",
   "execution_count": null,
   "metadata": {},
   "outputs": [],
   "source": [
    "wine_df.head()"
   ]
  },
  {
   "cell_type": "code",
   "execution_count": null,
   "metadata": {},
   "outputs": [],
   "source": [
    "wine_df.describe()"
   ]
  },
  {
   "cell_type": "code",
   "execution_count": null,
   "metadata": {
    "scrolled": true
   },
   "outputs": [],
   "source": [
    "#figure\n",
    "fig, ax1 = plt.subplots()\n",
    "fig.set_size_inches(13, 10)\n",
    "\n",
    "#labels\n",
    "ax1.set_xlabel('Alcohol')\n",
    "ax1.set_ylabel('Color Intensity')\n",
    "ax1.set_title('Relationship Between Color Intensity and Alcohol Content in Wines')\n",
    "\n",
    "#plot \n",
    "plt.scatter(wine_df['Alcohol'], wine_df['Color intensity'] , color='g', s = wine_df['Proline']*.5, alpha =0.5);\n",
    "#plt.scatter(wine_df['Alcohol'], wine_df['Color intensity'] , c=wine_df['Color intensity'], cmap = 'gist_rainbow', s = wine_df['Proline']*.5, alpha =0.5)\n",
    "#cbar = plt.colorbar()"
   ]
  },
  {
   "cell_type": "code",
   "execution_count": null,
   "metadata": {},
   "outputs": [],
   "source": [
    "corr = wine_df.corr()"
   ]
  },
  {
   "cell_type": "code",
   "execution_count": null,
   "metadata": {
    "scrolled": true
   },
   "outputs": [],
   "source": [
    "corr['Hue']"
   ]
  },
  {
   "cell_type": "code",
   "execution_count": null,
   "metadata": {},
   "outputs": [],
   "source": [
    "wine_df[['Alcohol', 'Hue', 'Color intensity']].boxplot(notch=True);"
   ]
  }
 ],
 "metadata": {
  "kernelspec": {
   "display_name": "Python 3",
   "language": "python",
   "name": "python3"
  },
  "language_info": {
   "codemirror_mode": {
    "name": "ipython",
    "version": 3
   },
   "file_extension": ".py",
   "mimetype": "text/x-python",
   "name": "python",
   "nbconvert_exporter": "python",
   "pygments_lexer": "ipython3",
   "version": "3.7.4"
  }
 },
 "nbformat": 4,
 "nbformat_minor": 2
}
